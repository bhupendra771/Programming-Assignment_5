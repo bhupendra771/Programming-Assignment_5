{
 "cells": [
  {
   "cell_type": "code",
   "execution_count": 9,
   "id": "a9b90cf6",
   "metadata": {},
   "outputs": [
    {
     "name": "stdout",
     "output_type": "stream",
     "text": [
      "enter number 1st\n",
      "2\n",
      "enter number 2nd\n",
      "4\n",
      "enter number 3rd\n",
      "22\n",
      "LCM of 2,4,22 is 44\n",
      "\n"
     ]
    }
   ],
   "source": [
    "# 1.\tWrite a Python Program to Find LCM?\n",
    "import math\n",
    "a = int(input(\"enter number 1st\\n\"))\n",
    "b = int(input(\"enter number 2nd\\n\"))\n",
    "c = int(input(\"enter number 3rd\\n\"))\n",
    "\n",
    "LCM = math.lcm(a,b,c)\n",
    "\n",
    "print(f\"LCM of {a},{b},{c} is {LCM}\\n\")\n"
   ]
  },
  {
   "cell_type": "code",
   "execution_count": 12,
   "id": "922cbdc5",
   "metadata": {},
   "outputs": [
    {
     "name": "stdout",
     "output_type": "stream",
     "text": [
      "enter number 1st\n",
      "2\n",
      "enter number 2nd\n",
      "4\n",
      "HCF of 2,4,12 is 2\n",
      "\n"
     ]
    }
   ],
   "source": [
    "# 2.\tWrite a Python Program to Find HCF?\n",
    "\n",
    "import math\n",
    "a = int(input(\"enter number 1st\\n\"))\n",
    "b = int(input(\"enter number 2nd\\n\"))\n",
    "c = int(input(\"enter number 3rd\\n\"))\n",
    "\n",
    "HCF = math.gcd(a,b,c)\n",
    "\n",
    "print(f\"HCF of {a},{b},{c} is {HCF}\\n\")"
   ]
  },
  {
   "cell_type": "code",
   "execution_count": 37,
   "id": "759589bc",
   "metadata": {},
   "outputs": [
    {
     "name": "stdout",
     "output_type": "stream",
     "text": [
      "Enter Number \n",
      "10\n",
      "01010"
     ]
    }
   ],
   "source": [
    "# 3.\tWrite a Python Program to Convert Decimal to Binary, Octal and Hexadecimal?\n",
    "a = int(input(\"Enter Number \\n\"))\n",
    "# b = bin(a)\n",
    "# c = b.split(\"0b\")\n",
    "# print(c[1])\n",
    "\n",
    "def DecimalToBinary(num):\n",
    "     \n",
    "    if num >= 1:\n",
    "        DecimalToBinary(num // 2)\n",
    "    print(num % 2, end = '') \n",
    "DecimalToBinary(a)"
   ]
  },
  {
   "cell_type": "code",
   "execution_count": 51,
   "id": "bdf1b450",
   "metadata": {},
   "outputs": [
    {
     "name": "stdout",
     "output_type": "stream",
     "text": [
      "Enter Number \n",
      "70\n",
      "value is- F\n"
     ]
    }
   ],
   "source": [
    "# 4.\tWrite a Python Program To Find ASCII value of a character?\n",
    "a = int(input(\"Enter Number \\n\"))\n",
    "print(f\"value is- {chr(a)}\")\n"
   ]
  },
  {
   "cell_type": "code",
   "execution_count": 106,
   "id": "4c6a74cc",
   "metadata": {},
   "outputs": [
    {
     "name": "stdout",
     "output_type": "stream",
     "text": [
      "enter number 1st\n",
      "3\n",
      "enter number 2nd\n",
      "3\n",
      "Enter Operation \n",
      "divide\n",
      "divide of a and b is  1.0\n"
     ]
    }
   ],
   "source": [
    "# 5.\tWrite a Python Program to Make a Simple Calculator with 4 basic mathematical operations?\n",
    "a = int(input(\"enter number 1st\\n\"))\n",
    "b = int(input(\"enter number 2nd\\n\"))\n",
    "opp = input(\"Enter Operation \\n\")\n",
    "# print(opp)\n",
    "\n",
    "lst = [\"add\",'subtract','multiplication','divide']\n",
    "if(opp == lst[0]):\n",
    "    print(\"addition of a and b is \",opp, a+b)\n",
    "    \n",
    "elif(opp== lst[1]):\n",
    "    print(\"subtract of a and b is \",opp, a-b)\n",
    "        \n",
    "elif(opp == lst[2]):\n",
    "    print(\"multiplication of a and b is \", a*b)\n",
    "elif(opp == lst[3]):\n",
    "    print(\"divide of a and b is \", a/b)\n",
    "    \n"
   ]
  },
  {
   "cell_type": "code",
   "execution_count": 103,
   "id": "9919b778",
   "metadata": {},
   "outputs": [
    {
     "name": "stdout",
     "output_type": "stream",
     "text": [
      "enter number 1st\n",
      "3\n",
      "enter number 2nd\n",
      "3\n",
      "Enter Operation \n",
      "multiplication\n",
      "multiplication of a and b is  9\n"
     ]
    }
   ],
   "source": [
    "\n",
    "        \n",
    "    "
   ]
  },
  {
   "cell_type": "code",
   "execution_count": null,
   "id": "f03f33f0",
   "metadata": {},
   "outputs": [],
   "source": []
  }
 ],
 "metadata": {
  "kernelspec": {
   "display_name": "Python 3 (ipykernel)",
   "language": "python",
   "name": "python3"
  },
  "language_info": {
   "codemirror_mode": {
    "name": "ipython",
    "version": 3
   },
   "file_extension": ".py",
   "mimetype": "text/x-python",
   "name": "python",
   "nbconvert_exporter": "python",
   "pygments_lexer": "ipython3",
   "version": "3.9.7"
  }
 },
 "nbformat": 4,
 "nbformat_minor": 5
}
